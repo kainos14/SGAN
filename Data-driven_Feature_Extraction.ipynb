{
 "cells": [
  {
   "cell_type": "markdown",
   "id": "f4bfce49",
   "metadata": {},
   "source": [
    "# FeatureExtraction"
   ]
  },
  {
   "cell_type": "code",
   "execution_count": 4,
   "id": "0e6721e5",
   "metadata": {},
   "outputs": [],
   "source": [
    "from scipy.stats import skew\n",
    "import os\n",
    "import csv\n",
    "import pandas as pd\n",
    "from tqdm import tqdm"
   ]
  },
  {
   "cell_type": "code",
   "execution_count": 5,
   "id": "8cf44662",
   "metadata": {},
   "outputs": [],
   "source": [
    "def extractFeatures(data):\n",
    "\tmean = data.mean()\n",
    "\trmax = data.max()\n",
    "\trmin = data.min()\n",
    "\tvariance = data.var()\n",
    "\tstd = data.std()\n",
    "\tskew1  = skew(data)\n",
    "\tfeatures = [mean, rmax, rmin, variance, std, skew1]\n",
    "\treturn features\n",
    "\n",
    "def makeFeatureHeader(features, colNames):\n",
    "\theader = []\n",
    "\tfor col in colNames:\n",
    "\t\tfor feature in features:\n",
    "\t\t\theader.append(col + \"_\" + feature)\n",
    "\theader.append(\"activity\")\n",
    "\treturn header"
   ]
  },
  {
   "cell_type": "code",
   "execution_count": 6,
   "id": "e4a1c824",
   "metadata": {},
   "outputs": [],
   "source": [
    "features = [\"mean\", \"max\", \"min\", \"var\", \"std\", \"skew\"]\n",
    "activites = {'a01': 'sitting', 'a02': 'standing', 'a03': 'lyingBack','a04':'lyingRigh','a05':'ascendingStairs','a06':'decendingStairs', 'a07':'standingInElevatorStill','a08':'movingInElevator','a09':'walkingLot','a10':'walkingTreadmillFlat', 'a11':'walkingTreadmillIncline','a12':'runningTreadmill','a13':'stepper', 'a14':'crossTrainer', 'a15':'cyclingHorizontal','a16':'cyclingVertical','a17':'rowing','a18':'jumping','a19':'basketBall'} \n",
    "people = ['p1','p2','p3','p4','p5','p6','p7','p8']\n",
    "\n",
    "collumNames = [\"T_xacc\", \"T_yacc\", \"T_zacc\", \"T_xgyro\",\"T_ygyro\",\"T_zgyro\",\"T_xmag\", \"T_ymag\", \"T_zmag\",\n",
    "\"RA_xacc\", \"RA_yacc\", \"RA_zacc\", \"RA_xgyro\", \"RA_ygyro\",\"RA_zgyro\", \"RA_xmag\", \"RA_ymag\", \"RA_zmag\",\n",
    "\"LA_xacc\", \"LA_yacc\", \"LA_zacc\", \"LA_xgyro\", \"LA_ygyro\",\"LA_zgyro\", \"LA_xmag\", \"LA_ymag\", \"LA_zmag\",\n",
    "\"RL_xacc\", \"RL_yacc\", \"RL_zacc\", \"RL_xgyro\", \"RL_ygyro\",\"RL_zgyro\", \"RL_xmag\", \"RL_ymag\", \"RL_zmag\",\n",
    "\"LL_xacc\", \"LL_yacc\", \"LL_zacc\", \"LL_xgyro\", \"LL_ygyro\",\"LL_zgyro\", \"LL_xmag\", \"LL_ymag\", \"LL_zmag\"]\n"
   ]
  },
  {
   "cell_type": "markdown",
   "id": "83fc844a",
   "metadata": {},
   "source": [
    "# Download DSA dataset from  UC Irvine Machine Learning Repository\n",
    "https://archive.ics.uci.edu/dataset/256/daily+and+sports+activities"
   ]
  },
  {
   "cell_type": "code",
   "execution_count": 9,
   "id": "6fdf83b0",
   "metadata": {},
   "outputs": [],
   "source": [
    "# Directory where data was downloaded\n",
    "\n",
    "mainDir = \"D:/HAR/DSADS/data/\""
   ]
  },
  {
   "cell_type": "code",
   "execution_count": 10,
   "id": "bc91fdef",
   "metadata": {
    "scrolled": false
   },
   "outputs": [
    {
     "name": "stderr",
     "output_type": "stream",
     "text": [
      "  0%|                                                   | 0/19 [00:00<?, ?it/s]\n",
      "  0%|                                                    | 0/8 [00:00<?, ?it/s]\u001b[A\n",
      " 12%|█████▌                                      | 1/8 [00:02<00:15,  2.28s/it]\u001b[A\n",
      " 25%|███████████                                 | 2/8 [00:04<00:14,  2.36s/it]\u001b[A\n",
      " 38%|████████████████▌                           | 3/8 [00:06<00:11,  2.31s/it]\u001b[A\n",
      " 50%|██████████████████████                      | 4/8 [00:09<00:09,  2.27s/it]\u001b[A\n",
      " 62%|███████████████████████████▌                | 5/8 [00:11<00:06,  2.24s/it]\u001b[A\n",
      " 75%|█████████████████████████████████           | 6/8 [00:13<00:04,  2.26s/it]\u001b[A\n",
      " 88%|██████████████████████████████████████▌     | 7/8 [00:15<00:02,  2.26s/it]\u001b[A\n",
      "100%|████████████████████████████████████████████| 8/8 [00:18<00:00,  2.26s/it]\u001b[A\n",
      "  5%|██▎                                        | 1/19 [00:18<05:25, 18.10s/it]\n",
      "  0%|                                                    | 0/8 [00:00<?, ?it/s]\u001b[A\n",
      " 12%|█████▌                                      | 1/8 [00:02<00:14,  2.08s/it]\u001b[A\n",
      " 25%|███████████                                 | 2/8 [00:04<00:12,  2.15s/it]\u001b[A\n",
      " 38%|████████████████▌                           | 3/8 [00:06<00:11,  2.32s/it]\u001b[A\n",
      " 50%|██████████████████████                      | 4/8 [00:09<00:09,  2.34s/it]\u001b[A\n",
      " 62%|███████████████████████████▌                | 5/8 [00:11<00:06,  2.28s/it]\u001b[A\n",
      " 75%|█████████████████████████████████           | 6/8 [00:13<00:04,  2.26s/it]\u001b[A\n",
      " 88%|██████████████████████████████████████▌     | 7/8 [00:15<00:02,  2.29s/it]\u001b[A\n",
      "100%|████████████████████████████████████████████| 8/8 [00:18<00:00,  2.29s/it]\u001b[A\n",
      " 11%|████▌                                      | 2/19 [00:36<05:09, 18.22s/it]\n",
      "  0%|                                                    | 0/8 [00:00<?, ?it/s]\u001b[A\n",
      " 12%|█████▌                                      | 1/8 [00:02<00:18,  2.69s/it]\u001b[A\n",
      " 25%|███████████                                 | 2/8 [00:05<00:16,  2.74s/it]\u001b[A\n",
      " 38%|████████████████▌                           | 3/8 [00:07<00:12,  2.53s/it]\u001b[A\n",
      " 50%|██████████████████████                      | 4/8 [00:10<00:09,  2.42s/it]\u001b[A\n",
      " 62%|███████████████████████████▌                | 5/8 [00:12<00:07,  2.37s/it]\u001b[A\n",
      " 75%|█████████████████████████████████           | 6/8 [00:14<00:04,  2.33s/it]\u001b[A\n",
      " 88%|██████████████████████████████████████▌     | 7/8 [00:16<00:02,  2.27s/it]\u001b[A\n",
      "100%|████████████████████████████████████████████| 8/8 [00:18<00:00,  2.37s/it]\u001b[A\n",
      " 16%|██████▊                                    | 3/19 [00:55<04:56, 18.56s/it]\n",
      "  0%|                                                    | 0/8 [00:00<?, ?it/s]\u001b[A\n",
      " 12%|█████▌                                      | 1/8 [00:02<00:16,  2.29s/it]\u001b[A\n",
      " 25%|███████████                                 | 2/8 [00:04<00:13,  2.28s/it]\u001b[A\n",
      " 38%|████████████████▌                           | 3/8 [00:06<00:11,  2.29s/it]\u001b[A\n",
      " 50%|██████████████████████                      | 4/8 [00:09<00:09,  2.32s/it]\u001b[A\n",
      " 62%|███████████████████████████▌                | 5/8 [00:11<00:06,  2.29s/it]\u001b[A\n",
      " 75%|█████████████████████████████████           | 6/8 [00:13<00:04,  2.25s/it]\u001b[A\n",
      " 88%|██████████████████████████████████████▌     | 7/8 [00:16<00:02,  2.45s/it]\u001b[A\n",
      "100%|████████████████████████████████████████████| 8/8 [00:18<00:00,  2.34s/it]\u001b[A\n",
      " 21%|█████████                                  | 4/19 [01:14<04:39, 18.61s/it]\n",
      "  0%|                                                    | 0/8 [00:00<?, ?it/s]\u001b[A\n",
      " 12%|█████▌                                      | 1/8 [00:02<00:17,  2.51s/it]\u001b[A\n",
      " 25%|███████████                                 | 2/8 [00:05<00:15,  2.52s/it]\u001b[A\n",
      " 38%|████████████████▌                           | 3/8 [00:07<00:11,  2.37s/it]\u001b[A\n",
      " 50%|██████████████████████                      | 4/8 [00:09<00:09,  2.47s/it]\u001b[A\n",
      " 62%|███████████████████████████▌                | 5/8 [00:12<00:07,  2.38s/it]\u001b[A\n",
      " 75%|█████████████████████████████████           | 6/8 [00:14<00:04,  2.34s/it]\u001b[A\n",
      " 88%|██████████████████████████████████████▌     | 7/8 [00:16<00:02,  2.29s/it]\u001b[A\n",
      "100%|████████████████████████████████████████████| 8/8 [00:18<00:00,  2.35s/it]\u001b[A\n",
      " 26%|███████████▎                               | 5/19 [01:32<04:21, 18.68s/it]\n",
      "  0%|                                                    | 0/8 [00:00<?, ?it/s]\u001b[A\n",
      " 12%|█████▌                                      | 1/8 [00:02<00:16,  2.35s/it]\u001b[A\n",
      " 25%|███████████                                 | 2/8 [00:04<00:13,  2.30s/it]\u001b[A\n",
      " 38%|████████████████▌                           | 3/8 [00:06<00:11,  2.24s/it]\u001b[A\n",
      " 50%|██████████████████████                      | 4/8 [00:08<00:08,  2.21s/it]\u001b[A\n",
      " 62%|███████████████████████████▌                | 5/8 [00:11<00:06,  2.20s/it]\u001b[A\n",
      " 75%|█████████████████████████████████           | 6/8 [00:13<00:04,  2.30s/it]\u001b[A\n",
      " 88%|██████████████████████████████████████▌     | 7/8 [00:15<00:02,  2.26s/it]\u001b[A\n",
      "100%|████████████████████████████████████████████| 8/8 [00:18<00:00,  2.26s/it]\u001b[A\n",
      " 32%|█████████████▌                             | 6/19 [01:50<04:00, 18.47s/it]\n",
      "  0%|                                                    | 0/8 [00:00<?, ?it/s]\u001b[A\n",
      " 12%|█████▌                                      | 1/8 [00:02<00:16,  2.40s/it]\u001b[A\n",
      " 25%|███████████                                 | 2/8 [00:04<00:14,  2.37s/it]\u001b[A\n",
      " 38%|████████████████▌                           | 3/8 [00:06<00:11,  2.31s/it]\u001b[A\n",
      " 50%|██████████████████████                      | 4/8 [00:09<00:09,  2.28s/it]\u001b[A\n",
      " 62%|███████████████████████████▌                | 5/8 [00:11<00:06,  2.26s/it]\u001b[A\n",
      " 75%|█████████████████████████████████           | 6/8 [00:13<00:04,  2.28s/it]\u001b[A\n",
      " 88%|██████████████████████████████████████▌     | 7/8 [00:16<00:02,  2.41s/it]\u001b[A\n",
      "100%|████████████████████████████████████████████| 8/8 [00:18<00:00,  2.36s/it]\u001b[A\n",
      " 37%|███████████████▊                           | 7/19 [02:09<03:43, 18.61s/it]\n",
      "  0%|                                                    | 0/8 [00:00<?, ?it/s]\u001b[A\n",
      " 12%|█████▌                                      | 1/8 [00:02<00:16,  2.40s/it]\u001b[A\n",
      " 25%|███████████                                 | 2/8 [00:04<00:14,  2.37s/it]\u001b[A\n",
      " 38%|████████████████▌                           | 3/8 [00:07<00:11,  2.34s/it]\u001b[A\n",
      " 50%|██████████████████████                      | 4/8 [00:09<00:09,  2.45s/it]\u001b[A\n",
      " 62%|███████████████████████████▌                | 5/8 [00:12<00:07,  2.50s/it]\u001b[A\n",
      " 75%|█████████████████████████████████           | 6/8 [00:15<00:05,  2.81s/it]\u001b[A\n",
      " 88%|██████████████████████████████████████▌     | 7/8 [00:18<00:02,  2.90s/it]\u001b[A\n",
      "100%|████████████████████████████████████████████| 8/8 [00:21<00:00,  2.66s/it]\u001b[A\n",
      " 42%|██████████████████                         | 8/19 [02:31<03:34, 19.46s/it]\n",
      "  0%|                                                    | 0/8 [00:00<?, ?it/s]\u001b[A\n",
      " 12%|█████▌                                      | 1/8 [00:02<00:17,  2.51s/it]\u001b[A\n",
      " 25%|███████████                                 | 2/8 [00:05<00:15,  2.55s/it]\u001b[A\n",
      " 38%|████████████████▌                           | 3/8 [00:07<00:12,  2.43s/it]\u001b[A\n",
      " 50%|██████████████████████                      | 4/8 [00:09<00:09,  2.49s/it]\u001b[A\n",
      " 62%|███████████████████████████▌                | 5/8 [00:12<00:07,  2.43s/it]\u001b[A\n",
      " 75%|█████████████████████████████████           | 6/8 [00:14<00:04,  2.38s/it]\u001b[A\n",
      " 88%|██████████████████████████████████████▌     | 7/8 [00:16<00:02,  2.35s/it]\u001b[A\n",
      "100%|████████████████████████████████████████████| 8/8 [00:19<00:00,  2.39s/it]\u001b[A\n",
      " 47%|████████████████████▎                      | 9/19 [02:50<03:13, 19.36s/it]\n",
      "  0%|                                                    | 0/8 [00:00<?, ?it/s]\u001b[A\n",
      " 12%|█████▌                                      | 1/8 [00:02<00:16,  2.33s/it]\u001b[A\n",
      " 25%|███████████                                 | 2/8 [00:04<00:13,  2.30s/it]\u001b[A\n",
      " 38%|████████████████▌                           | 3/8 [00:06<00:11,  2.28s/it]\u001b[A\n",
      " 50%|██████████████████████                      | 4/8 [00:09<00:09,  2.29s/it]\u001b[A\n",
      " 62%|███████████████████████████▌                | 5/8 [00:11<00:06,  2.29s/it]\u001b[A\n",
      " 75%|█████████████████████████████████           | 6/8 [00:13<00:04,  2.28s/it]\u001b[A\n",
      " 88%|██████████████████████████████████████▌     | 7/8 [00:16<00:02,  2.31s/it]\u001b[A\n"
     ]
    },
    {
     "name": "stderr",
     "output_type": "stream",
     "text": [
      "100%|████████████████████████████████████████████| 8/8 [00:18<00:00,  2.29s/it]\u001b[A\n",
      " 53%|██████████████████████                    | 10/19 [03:08<02:51, 19.05s/it]\n",
      "  0%|                                                    | 0/8 [00:00<?, ?it/s]\u001b[A\n",
      " 12%|█████▌                                      | 1/8 [00:02<00:16,  2.31s/it]\u001b[A\n",
      " 25%|███████████                                 | 2/8 [00:04<00:15,  2.51s/it]\u001b[A\n",
      " 38%|████████████████▌                           | 3/8 [00:07<00:11,  2.39s/it]\u001b[A\n",
      " 50%|██████████████████████                      | 4/8 [00:09<00:09,  2.33s/it]\u001b[A\n",
      " 62%|███████████████████████████▌                | 5/8 [00:11<00:07,  2.39s/it]\u001b[A\n",
      " 75%|█████████████████████████████████           | 6/8 [00:14<00:04,  2.44s/it]\u001b[A\n",
      " 88%|██████████████████████████████████████▌     | 7/8 [00:16<00:02,  2.42s/it]\u001b[A\n",
      "100%|████████████████████████████████████████████| 8/8 [00:19<00:00,  2.44s/it]\u001b[A\n",
      " 58%|████████████████████████▎                 | 11/19 [03:28<02:33, 19.18s/it]\n",
      "  0%|                                                    | 0/8 [00:00<?, ?it/s]\u001b[A\n",
      " 12%|█████▌                                      | 1/8 [00:02<00:16,  2.30s/it]\u001b[A\n",
      " 25%|███████████                                 | 2/8 [00:04<00:13,  2.31s/it]\u001b[A\n",
      " 38%|████████████████▌                           | 3/8 [00:06<00:11,  2.30s/it]\u001b[A\n",
      " 50%|██████████████████████                      | 4/8 [00:09<00:09,  2.32s/it]\u001b[A\n",
      " 62%|███████████████████████████▌                | 5/8 [00:11<00:06,  2.29s/it]\u001b[A\n",
      " 75%|█████████████████████████████████           | 6/8 [00:13<00:04,  2.35s/it]\u001b[A\n",
      " 88%|██████████████████████████████████████▌     | 7/8 [00:16<00:02,  2.31s/it]\u001b[A\n",
      "100%|████████████████████████████████████████████| 8/8 [00:18<00:00,  2.32s/it]\u001b[A\n",
      " 63%|██████████████████████████▌               | 12/19 [03:46<02:12, 18.99s/it]\n",
      "  0%|                                                    | 0/8 [00:00<?, ?it/s]\u001b[A\n",
      " 12%|█████▌                                      | 1/8 [00:02<00:15,  2.21s/it]\u001b[A\n",
      " 25%|███████████                                 | 2/8 [00:04<00:13,  2.23s/it]\u001b[A\n",
      " 38%|████████████████▌                           | 3/8 [00:06<00:11,  2.26s/it]\u001b[A\n",
      " 50%|██████████████████████                      | 4/8 [00:09<00:09,  2.26s/it]\u001b[A\n",
      " 62%|███████████████████████████▌                | 5/8 [00:11<00:06,  2.24s/it]\u001b[A\n",
      " 75%|█████████████████████████████████           | 6/8 [00:13<00:04,  2.29s/it]\u001b[A\n",
      " 88%|██████████████████████████████████████▌     | 7/8 [00:15<00:02,  2.26s/it]\u001b[A\n",
      "100%|████████████████████████████████████████████| 8/8 [00:18<00:00,  2.26s/it]\u001b[A\n",
      " 68%|████████████████████████████▋             | 13/19 [04:04<01:52, 18.71s/it]\n",
      "  0%|                                                    | 0/8 [00:00<?, ?it/s]\u001b[A\n",
      " 12%|█████▌                                      | 1/8 [00:02<00:15,  2.22s/it]\u001b[A\n",
      " 25%|███████████                                 | 2/8 [00:04<00:13,  2.22s/it]\u001b[A\n",
      " 38%|████████████████▌                           | 3/8 [00:06<00:11,  2.21s/it]\u001b[A\n",
      " 50%|██████████████████████                      | 4/8 [00:08<00:08,  2.24s/it]\u001b[A\n",
      " 62%|███████████████████████████▌                | 5/8 [00:11<00:06,  2.19s/it]\u001b[A\n",
      " 75%|█████████████████████████████████           | 6/8 [00:13<00:04,  2.17s/it]\u001b[A\n",
      " 88%|██████████████████████████████████████▌     | 7/8 [00:15<00:02,  2.17s/it]\u001b[A\n",
      "100%|████████████████████████████████████████████| 8/8 [00:17<00:00,  2.19s/it]\u001b[A\n",
      " 74%|██████████████████████████████▉           | 14/19 [04:22<01:31, 18.34s/it]\n",
      "  0%|                                                    | 0/8 [00:00<?, ?it/s]\u001b[A\n",
      " 12%|█████▌                                      | 1/8 [00:02<00:14,  2.14s/it]\u001b[A\n",
      " 25%|███████████                                 | 2/8 [00:04<00:13,  2.20s/it]\u001b[A\n",
      " 38%|████████████████▌                           | 3/8 [00:06<00:10,  2.18s/it]\u001b[A\n",
      " 50%|██████████████████████                      | 4/8 [00:08<00:08,  2.16s/it]\u001b[A\n",
      " 62%|███████████████████████████▌                | 5/8 [00:10<00:06,  2.15s/it]\u001b[A\n",
      " 75%|█████████████████████████████████           | 6/8 [00:12<00:04,  2.14s/it]\u001b[A\n",
      " 88%|██████████████████████████████████████▌     | 7/8 [00:15<00:02,  2.15s/it]\u001b[A\n",
      "100%|████████████████████████████████████████████| 8/8 [00:17<00:00,  2.15s/it]\u001b[A\n",
      " 79%|█████████████████████████████████▏        | 15/19 [04:39<01:12, 18.01s/it]\n",
      "  0%|                                                    | 0/8 [00:00<?, ?it/s]\u001b[A\n",
      " 12%|█████▌                                      | 1/8 [00:02<00:15,  2.19s/it]\u001b[A\n",
      " 25%|███████████                                 | 2/8 [00:04<00:13,  2.18s/it]\u001b[A\n",
      " 38%|████████████████▌                           | 3/8 [00:06<00:11,  2.24s/it]\u001b[A\n",
      " 50%|██████████████████████                      | 4/8 [00:08<00:08,  2.22s/it]\u001b[A\n",
      " 62%|███████████████████████████▌                | 5/8 [00:11<00:06,  2.20s/it]\u001b[A\n",
      " 75%|█████████████████████████████████           | 6/8 [00:13<00:04,  2.18s/it]\u001b[A\n",
      " 88%|██████████████████████████████████████▌     | 7/8 [00:15<00:02,  2.16s/it]\u001b[A\n",
      "100%|████████████████████████████████████████████| 8/8 [00:17<00:00,  2.17s/it]\u001b[A\n",
      " 84%|███████████████████████████████████▎      | 16/19 [04:56<00:53, 17.82s/it]\n",
      "  0%|                                                    | 0/8 [00:00<?, ?it/s]\u001b[A\n",
      " 12%|█████▌                                      | 1/8 [00:02<00:14,  2.12s/it]\u001b[A\n",
      " 25%|███████████                                 | 2/8 [00:04<00:12,  2.13s/it]\u001b[A\n",
      " 38%|████████████████▌                           | 3/8 [00:06<00:10,  2.11s/it]\u001b[A\n",
      " 50%|██████████████████████                      | 4/8 [00:08<00:08,  2.10s/it]\u001b[A\n",
      " 62%|███████████████████████████▌                | 5/8 [00:10<00:06,  2.13s/it]\u001b[A\n",
      " 75%|█████████████████████████████████           | 6/8 [00:12<00:04,  2.21s/it]\u001b[A\n",
      " 88%|██████████████████████████████████████▌     | 7/8 [00:15<00:02,  2.21s/it]\u001b[A\n",
      "100%|████████████████████████████████████████████| 8/8 [00:17<00:00,  2.17s/it]\u001b[A\n",
      " 89%|█████████████████████████████████████▌    | 17/19 [05:14<00:35, 17.68s/it]\n",
      "  0%|                                                    | 0/8 [00:00<?, ?it/s]\u001b[A\n",
      " 12%|█████▌                                      | 1/8 [00:02<00:16,  2.34s/it]\u001b[A\n",
      " 25%|███████████                                 | 2/8 [00:04<00:13,  2.22s/it]\u001b[A\n",
      " 38%|████████████████▌                           | 3/8 [00:06<00:10,  2.19s/it]\u001b[A\n",
      " 50%|██████████████████████                      | 4/8 [00:08<00:08,  2.19s/it]\u001b[A\n",
      " 62%|███████████████████████████▌                | 5/8 [00:10<00:06,  2.18s/it]\u001b[A\n",
      " 75%|█████████████████████████████████           | 6/8 [00:13<00:04,  2.21s/it]\u001b[A\n",
      " 88%|██████████████████████████████████████▌     | 7/8 [00:15<00:02,  2.20s/it]\u001b[A\n",
      "100%|████████████████████████████████████████████| 8/8 [00:17<00:00,  2.19s/it]\u001b[A\n",
      " 95%|███████████████████████████████████████▊  | 18/19 [05:31<00:17, 17.63s/it]\n",
      "  0%|                                                    | 0/8 [00:00<?, ?it/s]\u001b[A\n",
      " 12%|█████▌                                      | 1/8 [00:02<00:15,  2.18s/it]\u001b[A\n",
      " 25%|███████████                                 | 2/8 [00:04<00:12,  2.13s/it]\u001b[A\n",
      " 38%|████████████████▌                           | 3/8 [00:06<00:10,  2.13s/it]\u001b[A\n",
      " 50%|██████████████████████                      | 4/8 [00:08<00:08,  2.17s/it]\u001b[A\n",
      " 62%|███████████████████████████▌                | 5/8 [00:10<00:06,  2.19s/it]\u001b[A\n",
      " 75%|█████████████████████████████████           | 6/8 [00:13<00:04,  2.31s/it]\u001b[A\n",
      " 88%|██████████████████████████████████████▌     | 7/8 [00:15<00:02,  2.28s/it]\u001b[A\n",
      "100%|████████████████████████████████████████████| 8/8 [00:17<00:00,  2.22s/it]\u001b[A\n",
      "100%|██████████████████████████████████████████| 19/19 [05:49<00:00, 18.39s/it]\n"
     ]
    }
   ],
   "source": [
    "features_df = []\n",
    "header = makeFeatureHeader(features, collumNames)\n",
    "features_df.append(header)\n",
    "for activity in tqdm(activites):\n",
    "\tfor person in tqdm(people):\n",
    "\t\tsegments = os.listdir(mainDir + activity + \"/\" + person)\n",
    "\t\tsegments.sort()\n",
    "\t\tif \".DS_Store\" in segments:\n",
    "\t\t\tsegments.remove(\".DS_Store\")\n",
    "\t\tfor segment in segments:\n",
    "\t\t\trow = []\n",
    "\t\t\tfpath = mainDir + activity + \"/\" + person + \"/\" + segment\n",
    "\t\t\tdf = pd.read_csv(fpath, names = collumNames)\n",
    "\t\t\tfor col in collumNames:\n",
    "\t\t\t\tfeatures = extractFeatures(df[col])\n",
    "\t\t\t\trow.extend(features)\n",
    "\t\t\trow.append(activites[activity])\n",
    "\t\t\tfeatures_df.append(row)\n",
    "\n",
    "with open(\"features.csv\", \"w\", newline = \"\") as f:\n",
    "\twriter = csv.writer(f)\n",
    "\twriter.writerows(features_df)\n"
   ]
  },
  {
   "cell_type": "markdown",
   "id": "18712494",
   "metadata": {},
   "source": [
    "# SplitData"
   ]
  },
  {
   "cell_type": "code",
   "execution_count": 14,
   "id": "813071d3",
   "metadata": {},
   "outputs": [],
   "source": [
    "import pandas as pd\n",
    "from sklearn.model_selection import StratifiedShuffleSplit"
   ]
  },
  {
   "cell_type": "code",
   "execution_count": 15,
   "id": "bfc3b91f",
   "metadata": {},
   "outputs": [],
   "source": [
    "features = pd.read_csv(\"features.csv\")\n",
    "\n",
    "split = StratifiedShuffleSplit(n_splits = 1, test_size = 0.2, random_state = 42)\n",
    "for train_index, test_index in split.split(features, features['activity']):\n",
    "\ttrain_set = features.loc[train_index]\n",
    "\ttest_set = features.loc[test_index]\n",
    "\n",
    "test_set = pd.DataFrame(data = test_set)\n",
    "\n",
    "test_set.to_csv(\"D:/HAR/DSADS/test_set.csv\")\n",
    "train_set.to_csv(\"D:/HAR/DSADS/train_set.csv\")"
   ]
  },
  {
   "cell_type": "code",
   "execution_count": 16,
   "id": "4b8ebbb1",
   "metadata": {
    "scrolled": false
   },
   "outputs": [
    {
     "data": {
      "text/plain": [
       "activity\n",
       "sitting                    480\n",
       "walkingTreadmillIncline    480\n",
       "jumping                    480\n",
       "rowing                     480\n",
       "cyclingVertical            480\n",
       "cyclingHorizontal          480\n",
       "crossTrainer               480\n",
       "stepper                    480\n",
       "runningTreadmill           480\n",
       "walkingTreadmillFlat       480\n",
       "standing                   480\n",
       "walkingLot                 480\n",
       "movingInElevator           480\n",
       "standingInElevatorStill    480\n",
       "decendingStairs            480\n",
       "ascendingStairs            480\n",
       "lyingRigh                  480\n",
       "lyingBack                  480\n",
       "basketBall                 480\n",
       "Name: count, dtype: int64"
      ]
     },
     "execution_count": 16,
     "metadata": {},
     "output_type": "execute_result"
    }
   ],
   "source": [
    "features['activity'].value_counts()"
   ]
  },
  {
   "cell_type": "code",
   "execution_count": 47,
   "id": "6f2fe5e9",
   "metadata": {},
   "outputs": [],
   "source": [
    "features = pd.read_csv(\"D:/HAR/DSADS/train_set.csv\", index_col=0)"
   ]
  },
  {
   "cell_type": "code",
   "execution_count": 48,
   "id": "634f6c29",
   "metadata": {},
   "outputs": [],
   "source": [
    "features['T_xacc_std'] = features['T_xacc_std'] + 0.4"
   ]
  },
  {
   "cell_type": "code",
   "execution_count": 51,
   "id": "fde72dc6",
   "metadata": {},
   "outputs": [
    {
     "data": {
      "image/png": "[encoded data removed]",
      "text/plain": [
       "<Figure size 576x864 with 1 Axes>"
      ]
     },
     "metadata": {
      "needs_background": "light"
     },
     "output_type": "display_data"
    }
   ],
   "source": [
    "import matplotlib as mlt\n",
    "import matplotlib.pyplot as plt\n",
    "import seaborn as sns\n",
    "\n",
    "plt.figure(figsize=(8,12))\n",
    "sns.boxplot(x = features['activity'], y=features['T_xacc_std'],data=features, showfliers=False, saturation=1)\n",
    "plt.axhline(y=0.5, dashes=(5,5), c='r')\n",
    "plt.axhline(y=5.5, dashes=(5,5), c='b')\n",
    "plt.ylabel('Standard Deviation for X : Torso')\n",
    "plt.xticks(rotation=90)\n",
    "plt.show()"
   ]
  }
 ],
 "metadata": {
  "kernelspec": {
   "display_name": "Python 3",
   "language": "python",
   "name": "python3"
  },
  "language_info": {
   "codemirror_mode": {
    "name": "ipython",
    "version": 3
   },
   "file_extension": ".py",
   "mimetype": "text/x-python",
   "name": "python",
   "nbconvert_exporter": "python",
   "pygments_lexer": "ipython3",
   "version": "3.8.8"
  }
 },
 "nbformat": 4,
 "nbformat_minor": 5
}
